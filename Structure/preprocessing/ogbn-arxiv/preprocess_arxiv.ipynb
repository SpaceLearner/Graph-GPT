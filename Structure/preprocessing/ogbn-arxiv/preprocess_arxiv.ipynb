{
 "cells": [
  {
   "cell_type": "code",
   "execution_count": 2,
   "metadata": {},
   "outputs": [],
   "source": [
    "import networkx as nx\n",
    "import numpy as np\n",
    "import pandas as pd\n",
    "from collections import defaultdict\n",
    "import random\n",
    "import json\n",
    "import pickle as pkl\n",
    "from torch_geometric.utils import k_hop_subgraph\n",
    "from ogb.nodeproppred import PygNodePropPredDataset"
   ]
  },
  {
   "cell_type": "code",
   "execution_count": 4,
   "metadata": {},
   "outputs": [
    {
     "name": "stdout",
     "output_type": "stream",
     "text": [
      "Data(num_nodes=169343, edge_index=[2, 1166243], x=[169343, 128], node_year=[169343, 1], y=[169343, 1])\n"
     ]
    }
   ],
   "source": [
    "dataset = PygNodePropPredDataset(name=\"ogbn-arxiv\", root=\"../../dataset\") \n",
    "\n",
    "split_idx = dataset.get_idx_split()\n",
    "train_idx, valid_idx, test_idx = split_idx[\"train\"], split_idx[\"valid\"], split_idx[\"test\"]\n",
    "graph = dataset[0]\n",
    "print(graph)"
   ]
  },
  {
   "cell_type": "code",
   "execution_count": 8,
   "metadata": {},
   "outputs": [
    {
     "name": "stdout",
     "output_type": "stream",
     "text": [
      "   node idx   paper id\n",
      "0         0    9657784\n",
      "1         1   39886162\n",
      "2         2  116214155\n",
      "3         3  121432379\n",
      "4         4  231147053\n",
      "   paperid                                              title  \\\n",
      "0   200971           ontology as a source for rule generation   \n",
      "1   549074  a novel methodology for thermal analysis a 3 d...   \n",
      "2   630234  spreadsheets on the move an evaluation of mobi...   \n",
      "3   803423  multi view metric learning for multi view vide...   \n",
      "4  1102481    big data analytics in future internet of things   \n",
      "\n",
      "                                            abstract  \n",
      "0  This paper discloses the potential of OWL (Web...  \n",
      "1  The semiconductor industry is reaching a fasci...  \n",
      "2  The power of mobile devices has increased dram...  \n",
      "3  Traditional methods on video summarization are...  \n",
      "4  Current research on Internet of Things (IoT) m...  \n"
     ]
    }
   ],
   "source": [
    "id2paper   = pd.read_csv(\"nodeidx2paperid.csv\")\n",
    "paper2text = pd.read_csv(\"titleabs.tsv\", names=[\"paperid\", \"title\", \"abstract\"], sep=\"\\t\")  \n",
    "print(id2paper.head())\n",
    "print(paper2text.head())\n",
    "node_idx    = id2paper[\"node idx\"].values.tolist()\n",
    "paper_idx   = id2paper[\"paper id\"].values.tolist()\n",
    "node2paper  = {id:paper for id, paper in zip(node_idx, paper_idx)}\n",
    "\n",
    "paper_idx   = paper2text[\"paperid\"].values.tolist()\n",
    "title       = paper2text[\"title\"].values.tolist()\n",
    "paper2title = {paper:title for paper, title in zip(paper_idx, title)}\n",
    "\n",
    "paper_idx   = paper2text[\"paperid\"].values.tolist()\n",
    "abstract    = paper2text[\"abstract\"].values.tolist()\n",
    "paper2abs   = {paper:ab for paper, ab in zip(paper_idx, abstract)}"
   ]
  },
  {
   "cell_type": "code",
   "execution_count": 25,
   "metadata": {},
   "outputs": [],
   "source": [
    "graph_arxiv = nx.Graph()\n",
    "nodes = [(\"P\" + str(idx), {\"title\": paper2title[node2paper[idx]]}) for idx in range(graph.num_nodes)]\n",
    "graph_arxiv.add_nodes_from(nodes)\n",
    "edges = list(zip([\"P\" + str(x) for x in graph.edge_index[0].numpy().tolist()], [\"P\" + str(x) for x in graph.edge_index[1].numpy().tolist()]))\n",
    "graph_arxiv.add_edges_from(edges, relation=\"reference\")"
   ]
  },
  {
   "cell_type": "code",
   "execution_count": 26,
   "metadata": {},
   "outputs": [
    {
     "name": "stderr",
     "output_type": "stream",
     "text": [
      "500it [00:47, 10.42it/s]\n"
     ]
    }
   ],
   "source": [
    "from tqdm import tqdm\n",
    "cnt = 0\n",
    "for idx, node in tqdm(enumerate(list(graph_arxiv.nodes(data=False))[:500])):\n",
    "    nodesl = nx.bfs_successors(graph_arxiv, node, depth_limit=4)\n",
    "    nodesl = [nodel[0] for nodel in list(nodesl)][:20]\n",
    "    if len(nodesl) < 10:\n",
    "        continue\n",
    "    subgraph = nx.subgraph(graph_arxiv, nodesl)\n",
    "    if subgraph.number_of_edges() > 50:\n",
    "        continue\n",
    "    nx.write_gml(subgraph, path=\"../../input_arxiv/GML/graph_\"  + str(cnt) + \".gml\")\n",
    "    nx.write_graphml(subgraph, path=\"../../input_arxiv/GraphML/graph_\"  + str(cnt) + \".graphml\", named_key_ids=True, encoding='utf-8')\n",
    "    nx.write_edgelist(subgraph, path=\"../../input_arxiv/EdgeList/graph_\" + str(cnt) + \".edgelist\", delimiter=\"\\t\", encoding=\"utf-8\")\n",
    "    nx.write_adjlist(subgraph, path=\"../../input_arxiv/AdjList/graph_\"  + str(cnt) + \".adjlist\", delimiter=\"\\t\", encoding=\"utf-8\")\n",
    "    cnt += 1"
   ]
  }
 ],
 "metadata": {
  "kernelspec": {
   "display_name": "chatgpt",
   "language": "python",
   "name": "python3"
  },
  "language_info": {
   "codemirror_mode": {
    "name": "ipython",
    "version": 3
   },
   "file_extension": ".py",
   "mimetype": "text/x-python",
   "name": "python",
   "nbconvert_exporter": "python",
   "pygments_lexer": "ipython3",
   "version": "3.10.9"
  },
  "orig_nbformat": 4
 },
 "nbformat": 4,
 "nbformat_minor": 2
}
